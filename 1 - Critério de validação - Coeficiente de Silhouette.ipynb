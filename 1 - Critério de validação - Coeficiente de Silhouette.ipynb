{
 "cells": [
  {
   "attachments": {},
   "cell_type": "markdown",
   "metadata": {},
   "source": [
    "<h1>Conceito</h1>\n",
    "\n",
    "<h2>Coeficiente de Silhouette</h2>\n",
    "\n",
    "O coeficiente de Silhouette é utilizado para avaliar quão bem definido estão os *clusters* de um modelo.\n",
    "\n",
    "Ele é composto de duas medidas:\n",
    "\n",
    "- $a$: A média da distância entre uma amostra e todos os outros pontos **no mesmo *cluster***\n",
    "- $b$: A média da distância entre uma amostra e todos os outros pontos **no *cluster* mais próximo**\n",
    "\n",
    "E para uma **única entrada** pode ser calculado como:\n",
    "\n",
    "$\\Large s = \\frac{b - a}{\\max(a,b)}$\n",
    "\n",
    "**Para uma amostra inteira ele é calculado como a média do coeficiente para cada amostra.**\n",
    "\n",
    "<h3>Vantagens</h3>\n",
    "\n",
    "- O coeficiente de Silhouette tem o seu valor entre -1 e 1, sendo que -1 representa uma *clusterização* incorreta e 1 uma *clusterização* de alta densidade. Valores próximos de 0 indicam *clusters* sobrepostos.\n",
    "- O valor é maior quanto mais denso e mais bem separados os clusters estão, o que se correlaciona bem com os conceitos padrões de *cluster*\n",
    "\n",
    "<h3>Desvantagens</h3>\n",
    "\n",
    "- O coeficiente de Silhouette normalmente tem valores mais altos para *clusters* convexos, portanto pode ser interessante utilizar outro critério para avaliar *clusters* não convexos"
   ]
  },
  {
   "attachments": {},
   "cell_type": "markdown",
   "metadata": {},
   "source": [
    "<h1>Aplicação</h1>"
   ]
  },
  {
   "cell_type": "code",
   "execution_count": 1,
   "metadata": {},
   "outputs": [],
   "source": [
    "import pandas as pd\n",
    "\n",
    "from sklearn import metrics"
   ]
  },
  {
   "cell_type": "code",
   "execution_count": 14,
   "metadata": {},
   "outputs": [],
   "source": [
    "valores_normalizados = pd.read_csv(r'Dados/valores_normalizados.csv', header=None).values\n",
    "clusters_iniciais = pd.read_csv(r'Dados/clusters_iniciais.csv', header=None).values.ravel()"
   ]
  },
  {
   "cell_type": "code",
   "execution_count": 15,
   "metadata": {},
   "outputs": [],
   "source": [
    "# Calculando o coeficiente de silhouette\n",
    "silhouette = metrics.silhouette_score(valores_normalizados, clusters_iniciais, metric='euclidean')"
   ]
  },
  {
   "cell_type": "code",
   "execution_count": 16,
   "metadata": {},
   "outputs": [
    {
     "data": {
      "text/plain": [
       "0.36465840431968954"
      ]
     },
     "execution_count": 16,
     "metadata": {},
     "output_type": "execute_result"
    }
   ],
   "source": [
    "# Verificando o valor:\n",
    "silhouette"
   ]
  }
 ],
 "metadata": {
  "kernelspec": {
   "display_name": "Python 3",
   "language": "python",
   "name": "python3"
  },
  "language_info": {
   "codemirror_mode": {
    "name": "ipython",
    "version": 3
   },
   "file_extension": ".py",
   "mimetype": "text/x-python",
   "name": "python",
   "nbconvert_exporter": "python",
   "pygments_lexer": "ipython3",
   "version": "3.11.0"
  },
  "orig_nbformat": 4
 },
 "nbformat": 4,
 "nbformat_minor": 2
}
