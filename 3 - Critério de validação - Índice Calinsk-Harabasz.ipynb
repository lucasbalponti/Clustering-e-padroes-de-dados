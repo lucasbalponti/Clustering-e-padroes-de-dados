{
 "cells": [
  {
   "attachments": {},
   "cell_type": "markdown",
   "metadata": {},
   "source": [
    "<h1>Conceito</h1>\n",
    "\n",
    "<h2>Índice Calinski-Harabasz</h2>\n",
    "\n",
    "O índice Calinski-Harabasz, também chamado de **critério de razão da variância** é utilizado para avaliar quão bem definido os *clusters* estão, sendo que quanto maior o valor do índice mais bem definido os *clusters* estão.\n",
    "\n",
    "Considerando uma base de dados $E$ de tamanho $n_E$ que foi dividida em $k$ *clusters*, o índice Calinski-Harabasz $s$ é definido com a razão entre a dispersão média entre *clusters* e a dispersão dentro do *cluster*:\n",
    "\n",
    "$\\Large s = \\frac{Tr(B_k)}{Tr(W_k)} \\times \\frac{n_E - k}{k - 1}$\n",
    "\n",
    "onde:\n",
    "- $Tr$ representa o traço de uma matriz quadrada, ou seja: a soma dos valores da diagonal principal de uma matriz quadrada.\n",
    "- $W_k$ é a matriz de dispersão dentro do *cluster*, definida por:\n",
    "\n",
    "    $\\large W_k = \\sum\\limits_{q=1}^{k} \\sum\\limits_{x \\in C_q} (x - c_q)(x - c_q)^T$\n",
    "\n",
    "- $B_k$ é a matriz de dispersão entre *clusters*, definida por:\n",
    "\n",
    "    $\\large B_k = \\sum\\limits_{q=1}^{k} n_q (c_q - c_E)(c_q - c_E)^T$\n",
    "\n",
    "Em que $C_q$ são os dados no *cluster* $q$, $c_q$ é o centro do *cluster* $q$, $c_E$ o centro de $E$ e $n_q$ o número de pontos no *cluster* $q$.\n",
    "\n",
    "<h3>Vantagens</h3>\n",
    "\n",
    "- Esse índice é maior quanto mais bem densos e bem separados os *clusters* estão, o que se relaciona aos conceeitos padrões de *cluster*.\n",
    "- Esse índice é calculado rapidamente (computacionalmente).\n",
    "\n",
    "<h3>Desvantagens</h3>\n",
    "\n",
    "- Os valores do índice geralmente são mais altos para *clusters* convexos que para outros conceitos de *clusters*, como *clusters* baseados em densidade"
   ]
  },
  {
   "attachments": {},
   "cell_type": "markdown",
   "metadata": {},
   "source": [
    "<h1>Aplicação</h1>"
   ]
  },
  {
   "cell_type": "code",
   "execution_count": 1,
   "metadata": {},
   "outputs": [],
   "source": [
    "import pandas as pd\n",
    "\n",
    "from sklearn import metrics"
   ]
  },
  {
   "cell_type": "code",
   "execution_count": 2,
   "metadata": {},
   "outputs": [],
   "source": [
    "valores_normalizados = pd.read_csv(r'Dados/valores_normalizados.csv', header=None).values\n",
    "clusters_iniciais = pd.read_csv(r'Dados/clusters_iniciais.csv', header=None).values.ravel()"
   ]
  },
  {
   "cell_type": "code",
   "execution_count": 3,
   "metadata": {},
   "outputs": [],
   "source": [
    "# Calculando o valor do índice\n",
    "chs = metrics.calinski_harabasz_score(valores_normalizados, clusters_iniciais)"
   ]
  },
  {
   "cell_type": "code",
   "execution_count": 4,
   "metadata": {},
   "outputs": [
    {
     "data": {
      "text/plain": [
       "3431.56646473009"
      ]
     },
     "execution_count": 4,
     "metadata": {},
     "output_type": "execute_result"
    }
   ],
   "source": [
    "# Verificando o valor calculado\n",
    "chs"
   ]
  }
 ],
 "metadata": {
  "kernelspec": {
   "display_name": "Python 3",
   "language": "python",
   "name": "python3"
  },
  "language_info": {
   "codemirror_mode": {
    "name": "ipython",
    "version": 3
   },
   "file_extension": ".py",
   "mimetype": "text/x-python",
   "name": "python",
   "nbconvert_exporter": "python",
   "pygments_lexer": "ipython3",
   "version": "3.11.0"
  },
  "orig_nbformat": 4
 },
 "nbformat": 4,
 "nbformat_minor": 2
}
