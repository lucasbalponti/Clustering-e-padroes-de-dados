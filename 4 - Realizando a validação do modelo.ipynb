{
 "cells": [
  {
   "cell_type": "code",
   "execution_count": 1,
   "metadata": {},
   "outputs": [],
   "source": [
    "import pandas as pd\n",
    "import numpy as np\n",
    "\n",
    "from sklearn import metrics\n",
    "from sklearn.cluster import KMeans"
   ]
  },
  {
   "attachments": {},
   "cell_type": "markdown",
   "metadata": {},
   "source": [
    "<h2>Utilizando os critérios de validação</h2>"
   ]
  },
  {
   "cell_type": "code",
   "execution_count": 2,
   "metadata": {},
   "outputs": [],
   "source": [
    "# Criando função para realizar a validação dos clusters\n",
    "\n",
    "def n_cluster_validation(n_clusters_list, base, SEED=20):\n",
    "    '''\n",
    "    A função recebe a base de dados normalizada e uma lista contendo os números de clusters a serem testados\n",
    "    para um modelo k-means e retorna um dataframe contendo os scores para validação\n",
    "    '''\n",
    "\n",
    "    resultados = pd.DataFrame(columns=['n clusters', 'Silhouette', 'Davies-Boulding', 'Calinsk-Harabasz'])\n",
    "\n",
    "    for i in n_clusters_list:\n",
    "        np.random.seed(SEED)\n",
    "        predict = KMeans(n_clusters = i, n_init=10).fit_predict(base)\n",
    "        sc = metrics.silhouette_score(base, predict, metric='euclidean')\n",
    "        dbs = metrics.davies_bouldin_score(base, predict)\n",
    "        chs = metrics.calinski_harabasz_score(base, predict)\n",
    "\n",
    "        resultados = pd.concat([resultados, pd.DataFrame(columns=['n clusters', 'Silhouette', 'Davies-Boulding', 'Calinsk-Harabasz'], data=[[i, sc, dbs, chs]])], axis=0)\n",
    "    \n",
    "    return resultados"
   ]
  },
  {
   "cell_type": "code",
   "execution_count": 3,
   "metadata": {},
   "outputs": [],
   "source": [
    "# Importando os valores normalizados\n",
    "valores_normalizados = pd.read_csv(r'Dados/valores_normalizados.csv', header=None).values"
   ]
  },
  {
   "cell_type": "code",
   "execution_count": 4,
   "metadata": {},
   "outputs": [
    {
     "data": {
      "text/plain": [
       "16"
      ]
     },
     "execution_count": 4,
     "metadata": {},
     "output_type": "execute_result"
    }
   ],
   "source": [
    "len(valores_normalizados[0])"
   ]
  },
  {
   "cell_type": "code",
   "execution_count": 5,
   "metadata": {},
   "outputs": [],
   "source": [
    "# Realizando a validação para valores de 2 a 10 clusters\n",
    "validacao = n_cluster_validation(range(2,11), valores_normalizados)"
   ]
  },
  {
   "cell_type": "code",
   "execution_count": 6,
   "metadata": {},
   "outputs": [
    {
     "data": {
      "text/html": [
       "<div>\n",
       "<style scoped>\n",
       "    .dataframe tbody tr th:only-of-type {\n",
       "        vertical-align: middle;\n",
       "    }\n",
       "\n",
       "    .dataframe tbody tr th {\n",
       "        vertical-align: top;\n",
       "    }\n",
       "\n",
       "    .dataframe thead th {\n",
       "        text-align: right;\n",
       "    }\n",
       "</style>\n",
       "<table border=\"1\" class=\"dataframe\">\n",
       "  <thead>\n",
       "    <tr style=\"text-align: right;\">\n",
       "      <th></th>\n",
       "      <th>n clusters</th>\n",
       "      <th>Silhouette</th>\n",
       "      <th>Davies-Boulding</th>\n",
       "      <th>Calinsk-Harabasz</th>\n",
       "    </tr>\n",
       "  </thead>\n",
       "  <tbody>\n",
       "    <tr>\n",
       "      <th>0</th>\n",
       "      <td>2</td>\n",
       "      <td>0.299140</td>\n",
       "      <td>1.518087</td>\n",
       "      <td>3321.846358</td>\n",
       "    </tr>\n",
       "    <tr>\n",
       "      <th>0</th>\n",
       "      <td>3</td>\n",
       "      <td>0.327220</td>\n",
       "      <td>1.309607</td>\n",
       "      <td>3526.440520</td>\n",
       "    </tr>\n",
       "    <tr>\n",
       "      <th>0</th>\n",
       "      <td>4</td>\n",
       "      <td>0.348257</td>\n",
       "      <td>1.221290</td>\n",
       "      <td>3528.717622</td>\n",
       "    </tr>\n",
       "    <tr>\n",
       "      <th>0</th>\n",
       "      <td>5</td>\n",
       "      <td>0.364527</td>\n",
       "      <td>1.075856</td>\n",
       "      <td>3431.788780</td>\n",
       "    </tr>\n",
       "    <tr>\n",
       "      <th>0</th>\n",
       "      <td>6</td>\n",
       "      <td>0.364854</td>\n",
       "      <td>1.045346</td>\n",
       "      <td>3523.516921</td>\n",
       "    </tr>\n",
       "    <tr>\n",
       "      <th>0</th>\n",
       "      <td>7</td>\n",
       "      <td>0.327845</td>\n",
       "      <td>1.150915</td>\n",
       "      <td>3398.388472</td>\n",
       "    </tr>\n",
       "    <tr>\n",
       "      <th>0</th>\n",
       "      <td>8</td>\n",
       "      <td>0.308891</td>\n",
       "      <td>1.174854</td>\n",
       "      <td>3239.112230</td>\n",
       "    </tr>\n",
       "    <tr>\n",
       "      <th>0</th>\n",
       "      <td>9</td>\n",
       "      <td>0.308185</td>\n",
       "      <td>1.198410</td>\n",
       "      <td>3106.664097</td>\n",
       "    </tr>\n",
       "    <tr>\n",
       "      <th>0</th>\n",
       "      <td>10</td>\n",
       "      <td>0.351323</td>\n",
       "      <td>1.117369</td>\n",
       "      <td>3019.117443</td>\n",
       "    </tr>\n",
       "  </tbody>\n",
       "</table>\n",
       "</div>"
      ],
      "text/plain": [
       "  n clusters  Silhouette  Davies-Boulding  Calinsk-Harabasz\n",
       "0          2    0.299140         1.518087       3321.846358\n",
       "0          3    0.327220         1.309607       3526.440520\n",
       "0          4    0.348257         1.221290       3528.717622\n",
       "0          5    0.364527         1.075856       3431.788780\n",
       "0          6    0.364854         1.045346       3523.516921\n",
       "0          7    0.327845         1.150915       3398.388472\n",
       "0          8    0.308891         1.174854       3239.112230\n",
       "0          9    0.308185         1.198410       3106.664097\n",
       "0         10    0.351323         1.117369       3019.117443"
      ]
     },
     "execution_count": 6,
     "metadata": {},
     "output_type": "execute_result"
    }
   ],
   "source": [
    "# Verificando resultados\n",
    "validacao"
   ]
  },
  {
   "attachments": {},
   "cell_type": "markdown",
   "metadata": {},
   "source": [
    "Como o modelo com 6 clusters teve o melhor score Silhouette e o melhor score Davies-Boulding, assim como o terceiro melhor score Calinsk-Harabasz, ele será o escolhido."
   ]
  },
  {
   "attachments": {},
   "cell_type": "markdown",
   "metadata": {},
   "source": [
    "<h2>Utilizando uma base de dados 'dummy'</h2>"
   ]
  },
  {
   "attachments": {},
   "cell_type": "markdown",
   "metadata": {},
   "source": [
    "Outra maneira de validar os dados é criando uma base de dados aleatória e comparar com o resultado da base de dados original:"
   ]
  },
  {
   "cell_type": "code",
   "execution_count": 7,
   "metadata": {},
   "outputs": [
    {
     "data": {
      "text/html": [
       "<div>\n",
       "<style scoped>\n",
       "    .dataframe tbody tr th:only-of-type {\n",
       "        vertical-align: middle;\n",
       "    }\n",
       "\n",
       "    .dataframe tbody tr th {\n",
       "        vertical-align: top;\n",
       "    }\n",
       "\n",
       "    .dataframe thead th {\n",
       "        text-align: right;\n",
       "    }\n",
       "</style>\n",
       "<table border=\"1\" class=\"dataframe\">\n",
       "  <thead>\n",
       "    <tr style=\"text-align: right;\">\n",
       "      <th></th>\n",
       "      <th>n clusters</th>\n",
       "      <th>Silhouette</th>\n",
       "      <th>Davies-Boulding</th>\n",
       "      <th>Calinsk-Harabasz</th>\n",
       "    </tr>\n",
       "  </thead>\n",
       "  <tbody>\n",
       "    <tr>\n",
       "      <th>0</th>\n",
       "      <td>6</td>\n",
       "      <td>0.039733</td>\n",
       "      <td>3.338206</td>\n",
       "      <td>279.502946</td>\n",
       "    </tr>\n",
       "  </tbody>\n",
       "</table>\n",
       "</div>"
      ],
      "text/plain": [
       "  n clusters  Silhouette  Davies-Boulding  Calinsk-Harabasz\n",
       "0          6    0.039733         3.338206        279.502946"
      ]
     },
     "execution_count": 7,
     "metadata": {},
     "output_type": "execute_result"
    }
   ],
   "source": [
    "# Criando uma base de dados com valores aleatórios com o mesmo formato da base de dados utilizada\n",
    "\n",
    "random_data = np.random.rand(len(valores_normalizados),len(valores_normalizados[0]))\n",
    "\n",
    "# Verificando o desemepenho do algoritmo para essa base de dados:\n",
    "\n",
    "validacao_dummy = n_cluster_validation([6], random_data)\n",
    "\n",
    "validacao_dummy"
   ]
  },
  {
   "attachments": {},
   "cell_type": "markdown",
   "metadata": {},
   "source": [
    "Como é possível observar, os valores de todos os critérios foram muito piores para a base dummy. Portanto, isso é um bom indicativo de que o modelo real obtido está acima desta baseline."
   ]
  },
  {
   "attachments": {},
   "cell_type": "markdown",
   "metadata": {},
   "source": [
    "<h2>Dividindo a base de dados - verificando a estabilidade dos <i>clusters</i></h2>"
   ]
  },
  {
   "attachments": {},
   "cell_type": "markdown",
   "metadata": {},
   "source": [
    "Outra maneira de validar o modelo é dividindo a base de dados em n partes e verificando se as métricas se mantém estáveis"
   ]
  },
  {
   "cell_type": "code",
   "execution_count": 8,
   "metadata": {},
   "outputs": [],
   "source": [
    "# Dividindo a base em 3 partes:\n",
    "set1, set2, set3 = np.array_split(valores_normalizados, 3)\n",
    "\n",
    "lista_sets = [set1, set2, set3]\n",
    "\n",
    "# Testando o desempenho de cada parte:\n",
    "resultados = pd.DataFrame(columns=['set', 'n clusters', 'Silhouette', 'Davies-Boulding', 'Calinsk-Harabasz'])\n",
    "\n",
    "count = 0\n",
    "\n",
    "for i in lista_sets:\n",
    "    count = count + 1\n",
    "    resultados_intermediarios = n_cluster_validation([6], i)\n",
    "    resultados_intermediarios = pd.concat([pd.DataFrame(columns=['set'], data=[[count]]), resultados_intermediarios], axis = 1)\n",
    "    resultados = pd.concat([resultados, resultados_intermediarios], axis = 0)"
   ]
  },
  {
   "cell_type": "code",
   "execution_count": 9,
   "metadata": {},
   "outputs": [
    {
     "data": {
      "text/html": [
       "<div>\n",
       "<style scoped>\n",
       "    .dataframe tbody tr th:only-of-type {\n",
       "        vertical-align: middle;\n",
       "    }\n",
       "\n",
       "    .dataframe tbody tr th {\n",
       "        vertical-align: top;\n",
       "    }\n",
       "\n",
       "    .dataframe thead th {\n",
       "        text-align: right;\n",
       "    }\n",
       "</style>\n",
       "<table border=\"1\" class=\"dataframe\">\n",
       "  <thead>\n",
       "    <tr style=\"text-align: right;\">\n",
       "      <th></th>\n",
       "      <th>set</th>\n",
       "      <th>n clusters</th>\n",
       "      <th>Silhouette</th>\n",
       "      <th>Davies-Boulding</th>\n",
       "      <th>Calinsk-Harabasz</th>\n",
       "    </tr>\n",
       "  </thead>\n",
       "  <tbody>\n",
       "    <tr>\n",
       "      <th>0</th>\n",
       "      <td>1</td>\n",
       "      <td>6</td>\n",
       "      <td>0.364216</td>\n",
       "      <td>1.022584</td>\n",
       "      <td>1192.388843</td>\n",
       "    </tr>\n",
       "    <tr>\n",
       "      <th>0</th>\n",
       "      <td>2</td>\n",
       "      <td>6</td>\n",
       "      <td>0.364943</td>\n",
       "      <td>1.059534</td>\n",
       "      <td>1169.481552</td>\n",
       "    </tr>\n",
       "    <tr>\n",
       "      <th>0</th>\n",
       "      <td>3</td>\n",
       "      <td>6</td>\n",
       "      <td>0.372281</td>\n",
       "      <td>1.041536</td>\n",
       "      <td>1184.794637</td>\n",
       "    </tr>\n",
       "  </tbody>\n",
       "</table>\n",
       "</div>"
      ],
      "text/plain": [
       "  set n clusters  Silhouette  Davies-Boulding  Calinsk-Harabasz\n",
       "0   1          6    0.364216         1.022584       1192.388843\n",
       "0   2          6    0.364943         1.059534       1169.481552\n",
       "0   3          6    0.372281         1.041536       1184.794637"
      ]
     },
     "execution_count": 9,
     "metadata": {},
     "output_type": "execute_result"
    }
   ],
   "source": [
    "resultados"
   ]
  },
  {
   "attachments": {},
   "cell_type": "markdown",
   "metadata": {},
   "source": [
    "Todas as métricas tiveram valores próximos em todas as 3 divisões da base de dados, o que indica fortemente que os *clusters* são estáveis."
   ]
  },
  {
   "cell_type": "code",
   "execution_count": 10,
   "metadata": {},
   "outputs": [],
   "source": [
    "# Exportando o modelo final\n",
    "np.random.seed(20)\n",
    "kmeans = KMeans(n_clusters = 6, n_init=10).fit(valores_normalizados)\n",
    "predict_modelo_final = kmeans.predict(valores_normalizados)\n",
    "centroides_finais = kmeans.cluster_centers_\n",
    "\n",
    "# Exportando os clusters finais\n",
    "np.savetxt(r'Dados/clusters_modelo_final.csv', predict_modelo_final, delimiter=',')\n",
    "\n",
    "# Exportando os centróides finais\n",
    "np.savetxt(r'Dados/centroides_modelo_final.csv', centroides_finais, delimiter=',')"
   ]
  }
 ],
 "metadata": {
  "kernelspec": {
   "display_name": "Python 3",
   "language": "python",
   "name": "python3"
  },
  "language_info": {
   "codemirror_mode": {
    "name": "ipython",
    "version": 3
   },
   "file_extension": ".py",
   "mimetype": "text/x-python",
   "name": "python",
   "nbconvert_exporter": "python",
   "pygments_lexer": "ipython3",
   "version": "3.11.0"
  },
  "orig_nbformat": 4
 },
 "nbformat": 4,
 "nbformat_minor": 2
}
