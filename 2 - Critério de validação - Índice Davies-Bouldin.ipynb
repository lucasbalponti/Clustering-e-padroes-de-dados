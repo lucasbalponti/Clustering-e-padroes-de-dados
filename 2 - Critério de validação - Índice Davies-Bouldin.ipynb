{
 "cells": [
  {
   "attachments": {},
   "cell_type": "markdown",
   "metadata": {},
   "source": [
    "<h1>Conceito</h1>\n",
    "\n",
    "<h2>Índice Davies-Bouldin</h2>\n",
    "\n",
    "Esse índice é definido como a similaridade média entre cada *cluster* $C_i$ para $i = 1,...,k$ e o seu *cluster* mais similar $C_j$. No contexto deste índice, similaridade é definida como uma medida $R_{ij}$ que considera:\n",
    "\n",
    "- $s_i$, a distância média entre cada ponto do *cluster* $i$ ao centróide deste *cluster* - também conhecida como diâmetro do *cluster*\n",
    "- $d_{ij}$, a distância entre os contróides dos *clusters* $i$ e $j$\n",
    "\n",
    "A similaridade é definida, de maneira simétrica e não negativa, como:\n",
    "\n",
    "$\\Large R_{ij} = \\frac{s_i + s_j}{d_{ij}}$\n",
    "\n",
    "O índice de Davies-Bouldin então é definido como:\n",
    "\n",
    "$\\large DB = \\frac{1}{k} \\sum\\limits_{i=1}^{k} \\max\\limits_{i \\ne j} R_{ij}$\n",
    "\n",
    "**Quanto menor o valor de $DB$, mais bem separados os *clusters* estão**\n",
    "\n",
    "<h3>Vantagens</h3>\n",
    "\n",
    "- Requer menos esforço computacional que o coeficiente de Silhouette\n",
    "- O índice é somente baseado em quantias e características inerentes ao dataset, já que sua computação usa apenas distância entre pontos\n",
    "\n",
    "<h3>Desvantagens</h3>\n",
    "\n",
    "- Os valores do índice geralmente são mais altos para *clusters* convexos que para outros conceitos de *clusters*, como *clusters* baseados em densidade\n",
    "- O uso de distâncias ao centróide limita a métrica de distância ao espaço Euclidiano"
   ]
  },
  {
   "attachments": {},
   "cell_type": "markdown",
   "metadata": {},
   "source": [
    "<h1>Aplicação</h1>"
   ]
  },
  {
   "cell_type": "code",
   "execution_count": 1,
   "metadata": {},
   "outputs": [],
   "source": [
    "import pandas as pd\n",
    "\n",
    "from sklearn import metrics"
   ]
  },
  {
   "cell_type": "code",
   "execution_count": 2,
   "metadata": {},
   "outputs": [],
   "source": [
    "valores_normalizados = pd.read_csv(r'Dados/valores_normalizados.csv', header=None).values\n",
    "clusters_iniciais = pd.read_csv(r'Dados/clusters_iniciais.csv', header=None).values.ravel()"
   ]
  },
  {
   "cell_type": "code",
   "execution_count": 3,
   "metadata": {},
   "outputs": [],
   "source": [
    "# Calculando o índice de Davies-Bouldin\n",
    "dbs = metrics.davies_bouldin_score(valores_normalizados, clusters_iniciais)"
   ]
  },
  {
   "cell_type": "code",
   "execution_count": 4,
   "metadata": {},
   "outputs": [
    {
     "data": {
      "text/plain": [
       "1.0748555512679183"
      ]
     },
     "execution_count": 4,
     "metadata": {},
     "output_type": "execute_result"
    }
   ],
   "source": [
    "# Verificando o valor\n",
    "dbs"
   ]
  }
 ],
 "metadata": {
  "kernelspec": {
   "display_name": "Python 3",
   "language": "python",
   "name": "python3"
  },
  "language_info": {
   "codemirror_mode": {
    "name": "ipython",
    "version": 3
   },
   "file_extension": ".py",
   "mimetype": "text/x-python",
   "name": "python",
   "nbconvert_exporter": "python",
   "pygments_lexer": "ipython3",
   "version": "3.11.0"
  },
  "orig_nbformat": 4
 },
 "nbformat": 4,
 "nbformat_minor": 2
}
